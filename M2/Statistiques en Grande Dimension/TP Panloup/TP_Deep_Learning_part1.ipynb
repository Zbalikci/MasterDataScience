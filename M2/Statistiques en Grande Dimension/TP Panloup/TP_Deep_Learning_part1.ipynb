{
 "cells": [
  {
   "cell_type": "markdown",
   "metadata": {},
   "source": [
    "# TP Deep Learning - Part 1\n"
   ]
  },
  {
   "cell_type": "markdown",
   "metadata": {},
   "source": [
    "Installations"
   ]
  },
  {
   "cell_type": "code",
   "execution_count": 1,
   "metadata": {},
   "outputs": [],
   "source": [
    "# Pour faire les installations des différents modules\n",
    "# pip install nom_package"
   ]
  },
  {
   "cell_type": "code",
   "execution_count": null,
   "metadata": {},
   "outputs": [],
   "source": []
  },
  {
   "cell_type": "markdown",
   "metadata": {},
   "source": [
    "Packages"
   ]
  },
  {
   "cell_type": "code",
   "execution_count": 1,
   "metadata": {},
   "outputs": [],
   "source": [
    "# Pour les calculs et opérations numériques\n",
    "import numpy as np\n",
    "\n",
    "# Pour gérer efficacement les tableaux de données\n",
    "import pandas as pd\n",
    "\n",
    "# Pour la représentation graphique\n",
    "import matplotlib.pyplot as plt\n",
    "import seaborn as sns"
   ]
  },
  {
   "cell_type": "code",
   "execution_count": 2,
   "metadata": {},
   "outputs": [],
   "source": [
    "\n",
    "# Pour découper en données de train et de test\n",
    "from sklearn.model_selection import train_test_split\n",
    "\n",
    "# Pour gérer les collections, les comptages dans un array\n",
    "from collections import Counter\n",
    "\n",
    "# Pour labéliser et normaliser et standardiser les données\n",
    "from sklearn.preprocessing import LabelEncoder, MinMaxScaler, StandardScaler\n"
   ]
  },
  {
   "cell_type": "code",
   "execution_count": 3,
   "metadata": {},
   "outputs": [
    {
     "name": "stderr",
     "output_type": "stream",
     "text": [
      "2023-12-05 14:43:15.265362: I tensorflow/core/util/port.cc:113] oneDNN custom operations are on. You may see slightly different numerical results due to floating-point round-off errors from different computation orders. To turn them off, set the environment variable `TF_ENABLE_ONEDNN_OPTS=0`.\n",
      "2023-12-05 14:43:15.604754: I external/local_tsl/tsl/cuda/cudart_stub.cc:31] Could not find cuda drivers on your machine, GPU will not be used.\n",
      "2023-12-05 14:43:17.144325: E external/local_xla/xla/stream_executor/cuda/cuda_dnn.cc:9261] Unable to register cuDNN factory: Attempting to register factory for plugin cuDNN when one has already been registered\n",
      "2023-12-05 14:43:17.144421: E external/local_xla/xla/stream_executor/cuda/cuda_fft.cc:607] Unable to register cuFFT factory: Attempting to register factory for plugin cuFFT when one has already been registered\n",
      "2023-12-05 14:43:17.440401: E external/local_xla/xla/stream_executor/cuda/cuda_blas.cc:1515] Unable to register cuBLAS factory: Attempting to register factory for plugin cuBLAS when one has already been registered\n",
      "2023-12-05 14:43:18.051920: I external/local_tsl/tsl/cuda/cudart_stub.cc:31] Could not find cuda drivers on your machine, GPU will not be used.\n",
      "2023-12-05 14:43:18.052619: I tensorflow/core/platform/cpu_feature_guard.cc:182] This TensorFlow binary is optimized to use available CPU instructions in performance-critical operations.\n",
      "To enable the following instructions: AVX2 AVX_VNNI FMA, in other operations, rebuild TensorFlow with the appropriate compiler flags.\n",
      "2023-12-05 14:43:22.844253: W tensorflow/compiler/tf2tensorrt/utils/py_utils.cc:38] TF-TRT Warning: Could not find TensorRT\n"
     ]
    }
   ],
   "source": [
    "\n",
    "# Pour les réseaux de neurones\n",
    "import tensorflow as tf\n",
    "from keras.models import Sequential\n",
    "from keras.layers import Dense, Dropout"
   ]
  },
  {
   "cell_type": "code",
   "execution_count": 4,
   "metadata": {},
   "outputs": [],
   "source": [
    "\n",
    "\n",
    "\n",
    "# Metrics d'évaluations du modèle\n",
    "from sklearn.metrics import matthews_corrcoef, accuracy_score, classification_report, confusion_matrix "
   ]
  },
  {
   "cell_type": "markdown",
   "metadata": {},
   "source": [
    "Exercice 1 (Perceptron simple)"
   ]
  },
  {
   "cell_type": "markdown",
   "metadata": {},
   "source": [
    "1. Charger les données spam sur Moodle"
   ]
  },
  {
   "cell_type": "code",
   "execution_count": 5,
   "metadata": {},
   "outputs": [
    {
     "data": {
      "text/html": [
       "<div>\n",
       "<style scoped>\n",
       "    .dataframe tbody tr th:only-of-type {\n",
       "        vertical-align: middle;\n",
       "    }\n",
       "\n",
       "    .dataframe tbody tr th {\n",
       "        vertical-align: top;\n",
       "    }\n",
       "\n",
       "    .dataframe thead th {\n",
       "        text-align: right;\n",
       "    }\n",
       "</style>\n",
       "<table border=\"1\" class=\"dataframe\">\n",
       "  <thead>\n",
       "    <tr style=\"text-align: right;\">\n",
       "      <th></th>\n",
       "      <th>crl.tot</th>\n",
       "      <th>dollar</th>\n",
       "      <th>bang</th>\n",
       "      <th>money</th>\n",
       "      <th>n000</th>\n",
       "      <th>make</th>\n",
       "      <th>yesno</th>\n",
       "    </tr>\n",
       "  </thead>\n",
       "  <tbody>\n",
       "    <tr>\n",
       "      <th>0</th>\n",
       "      <td>278</td>\n",
       "      <td>0.000</td>\n",
       "      <td>0.778</td>\n",
       "      <td>0.00</td>\n",
       "      <td>0.00</td>\n",
       "      <td>0.00</td>\n",
       "      <td>y</td>\n",
       "    </tr>\n",
       "    <tr>\n",
       "      <th>1</th>\n",
       "      <td>1028</td>\n",
       "      <td>0.180</td>\n",
       "      <td>0.372</td>\n",
       "      <td>0.43</td>\n",
       "      <td>0.43</td>\n",
       "      <td>0.21</td>\n",
       "      <td>y</td>\n",
       "    </tr>\n",
       "    <tr>\n",
       "      <th>2</th>\n",
       "      <td>2259</td>\n",
       "      <td>0.184</td>\n",
       "      <td>0.276</td>\n",
       "      <td>0.06</td>\n",
       "      <td>1.16</td>\n",
       "      <td>0.06</td>\n",
       "      <td>y</td>\n",
       "    </tr>\n",
       "    <tr>\n",
       "      <th>3</th>\n",
       "      <td>191</td>\n",
       "      <td>0.000</td>\n",
       "      <td>0.137</td>\n",
       "      <td>0.00</td>\n",
       "      <td>0.00</td>\n",
       "      <td>0.00</td>\n",
       "      <td>y</td>\n",
       "    </tr>\n",
       "    <tr>\n",
       "      <th>4</th>\n",
       "      <td>191</td>\n",
       "      <td>0.000</td>\n",
       "      <td>0.135</td>\n",
       "      <td>0.00</td>\n",
       "      <td>0.00</td>\n",
       "      <td>0.00</td>\n",
       "      <td>y</td>\n",
       "    </tr>\n",
       "    <tr>\n",
       "      <th>...</th>\n",
       "      <td>...</td>\n",
       "      <td>...</td>\n",
       "      <td>...</td>\n",
       "      <td>...</td>\n",
       "      <td>...</td>\n",
       "      <td>...</td>\n",
       "      <td>...</td>\n",
       "    </tr>\n",
       "    <tr>\n",
       "      <th>4596</th>\n",
       "      <td>88</td>\n",
       "      <td>0.000</td>\n",
       "      <td>0.000</td>\n",
       "      <td>0.00</td>\n",
       "      <td>0.00</td>\n",
       "      <td>0.31</td>\n",
       "      <td>n</td>\n",
       "    </tr>\n",
       "    <tr>\n",
       "      <th>4597</th>\n",
       "      <td>14</td>\n",
       "      <td>0.000</td>\n",
       "      <td>0.353</td>\n",
       "      <td>0.00</td>\n",
       "      <td>0.00</td>\n",
       "      <td>0.00</td>\n",
       "      <td>n</td>\n",
       "    </tr>\n",
       "    <tr>\n",
       "      <th>4598</th>\n",
       "      <td>118</td>\n",
       "      <td>0.000</td>\n",
       "      <td>0.000</td>\n",
       "      <td>0.00</td>\n",
       "      <td>0.00</td>\n",
       "      <td>0.30</td>\n",
       "      <td>n</td>\n",
       "    </tr>\n",
       "    <tr>\n",
       "      <th>4599</th>\n",
       "      <td>78</td>\n",
       "      <td>0.000</td>\n",
       "      <td>0.000</td>\n",
       "      <td>0.00</td>\n",
       "      <td>0.00</td>\n",
       "      <td>0.96</td>\n",
       "      <td>n</td>\n",
       "    </tr>\n",
       "    <tr>\n",
       "      <th>4600</th>\n",
       "      <td>40</td>\n",
       "      <td>0.000</td>\n",
       "      <td>0.125</td>\n",
       "      <td>0.00</td>\n",
       "      <td>0.00</td>\n",
       "      <td>0.00</td>\n",
       "      <td>n</td>\n",
       "    </tr>\n",
       "  </tbody>\n",
       "</table>\n",
       "<p>4601 rows × 7 columns</p>\n",
       "</div>"
      ],
      "text/plain": [
       "      crl.tot  dollar   bang  money  n000  make yesno\n",
       "0         278   0.000  0.778   0.00  0.00  0.00     y\n",
       "1        1028   0.180  0.372   0.43  0.43  0.21     y\n",
       "2        2259   0.184  0.276   0.06  1.16  0.06     y\n",
       "3         191   0.000  0.137   0.00  0.00  0.00     y\n",
       "4         191   0.000  0.135   0.00  0.00  0.00     y\n",
       "...       ...     ...    ...    ...   ...   ...   ...\n",
       "4596       88   0.000  0.000   0.00  0.00  0.31     n\n",
       "4597       14   0.000  0.353   0.00  0.00  0.00     n\n",
       "4598      118   0.000  0.000   0.00  0.00  0.30     n\n",
       "4599       78   0.000  0.000   0.00  0.00  0.96     n\n",
       "4600       40   0.000  0.125   0.00  0.00  0.00     n\n",
       "\n",
       "[4601 rows x 7 columns]"
      ]
     },
     "execution_count": 5,
     "metadata": {},
     "output_type": "execute_result"
    }
   ],
   "source": [
    "# Données Spam\n",
    "df = pd.read_csv('spam7.csv', sep=';')\n",
    "df"
   ]
  },
  {
   "cell_type": "code",
   "execution_count": 6,
   "metadata": {},
   "outputs": [
    {
     "name": "stdout",
     "output_type": "stream",
     "text": [
      "<class 'pandas.core.frame.DataFrame'>\n",
      "RangeIndex: 4601 entries, 0 to 4600\n",
      "Data columns (total 7 columns):\n",
      " #   Column   Non-Null Count  Dtype  \n",
      "---  ------   --------------  -----  \n",
      " 0   crl.tot  4601 non-null   int64  \n",
      " 1   dollar   4601 non-null   float64\n",
      " 2   bang     4601 non-null   float64\n",
      " 3   money    4601 non-null   float64\n",
      " 4   n000     4601 non-null   float64\n",
      " 5   make     4601 non-null   float64\n",
      " 6   yesno    4601 non-null   object \n",
      "dtypes: float64(5), int64(1), object(1)\n",
      "memory usage: 251.7+ KB\n"
     ]
    }
   ],
   "source": [
    "# Informations sur les data\n",
    "df.info()"
   ]
  },
  {
   "cell_type": "markdown",
   "metadata": {},
   "source": [
    "2. Fabriquer un échantillon d’entrainement et un échantillon test."
   ]
  },
  {
   "cell_type": "code",
   "execution_count": 7,
   "metadata": {},
   "outputs": [
    {
     "data": {
      "text/plain": [
       "0       y\n",
       "1       y\n",
       "2       y\n",
       "3       y\n",
       "4       y\n",
       "       ..\n",
       "4596    n\n",
       "4597    n\n",
       "4598    n\n",
       "4599    n\n",
       "4600    n\n",
       "Name: yesno, Length: 4601, dtype: object"
      ]
     },
     "execution_count": 7,
     "metadata": {},
     "output_type": "execute_result"
    }
   ],
   "source": [
    "# On découpe en X et Y\n",
    "X = df.iloc[:,0:6]\n",
    "Y = df.iloc[:,6]\n",
    "Y"
   ]
  },
  {
   "cell_type": "code",
   "execution_count": 8,
   "metadata": {},
   "outputs": [
    {
     "data": {
      "text/plain": [
       "array([1, 1, 1, ..., 0, 0, 0])"
      ]
     },
     "execution_count": 8,
     "metadata": {},
     "output_type": "execute_result"
    }
   ],
   "source": [
    "# Encodage de la sortie Y qu'on va chercher à classifier\n",
    "labEncr_Y = LabelEncoder()\n",
    "Y = labEncr_Y.fit_transform(Y)\n",
    "Y"
   ]
  },
  {
   "cell_type": "code",
   "execution_count": 9,
   "metadata": {},
   "outputs": [],
   "source": [
    "# Feature scaling - minmaxscaler - normalisation pour que les entrées soient à la meme echelle.\n",
    "# De plus on a testé sans normaliser et la classification était moins bonne\n",
    "\n",
    "sc = MinMaxScaler(feature_range = (0, 1))\n",
    "X = sc.fit_transform(X)\n",
    "\n",
    "# Feature scaling - standardisation\n",
    "# StdSc = StandardScaler().fit(X)\n",
    "# X = StdSc.transform(X)"
   ]
  },
  {
   "cell_type": "code",
   "execution_count": 11,
   "metadata": {},
   "outputs": [
    {
     "name": "stdout",
     "output_type": "stream",
     "text": [
      "(2300, 6) (2301, 6) (2300,) (2301,)\n"
     ]
    }
   ],
   "source": [
    "# On découpe en échantillons d'entrainement et de test\n",
    "X_train,X_test,Y_train,Y_test = train_test_split(X,Y,test_size = 0.5)\n",
    "print(X_train.shape,X_test.shape,Y_train.shape,Y_test.shape)"
   ]
  },
  {
   "cell_type": "code",
   "execution_count": 12,
   "metadata": {},
   "outputs": [
    {
     "data": {
      "text/plain": [
       "919"
      ]
     },
     "execution_count": 12,
     "metadata": {},
     "output_type": "execute_result"
    }
   ],
   "source": [
    "np.sum(Y_test==1)"
   ]
  },
  {
   "cell_type": "code",
   "execution_count": 13,
   "metadata": {},
   "outputs": [
    {
     "name": "stdout",
     "output_type": "stream",
     "text": [
      "Counter({0: 1406, 1: 894})\n"
     ]
    },
    {
     "data": {
      "image/png": "[encoded data removed]",
      "text/plain": [
       "<Figure size 640x480 with 1 Axes>"
      ]
     },
     "metadata": {},
     "output_type": "display_data"
    }
   ],
   "source": [
    "# Comportment de la variable à prédire\n",
    "counter = Counter(Y_train)\n",
    "print(counter)\n",
    "distribution = sns.countplot(x = Y_train)\n",
    "plt.show()"
   ]
  },
  {
   "cell_type": "markdown",
   "metadata": {},
   "source": [
    "3. Construire un modèle de type 'perceptron simple' en utilisant en fonction d'activation la fonction sigmoïde."
   ]
  },
  {
   "cell_type": "code",
   "execution_count": 18,
   "metadata": {},
   "outputs": [],
   "source": [
    "# Initialisation \n",
    "classifier = Sequential()\n",
    "# Ajout de la couche cachée\n",
    "classifier.add(Dense(units = 20, input_dim = 6,activation=\"relu\"))\n",
    "# Ajout de la couche Dropout de régularisation\n",
    "#classifier.add(Dropout(0.5))\n",
    "# Ajout de la couche de sortie\n",
    "classifier.add(Dense(units = 1, activation = 'sigmoid'))"
   ]
  },
  {
   "cell_type": "markdown",
   "metadata": {},
   "source": [
    "4. Que signifient les différents paramètres du modèle ? Affichez les caractéristiques de ce modèle."
   ]
  },
  {
   "cell_type": "markdown",
   "metadata": {},
   "source": [
    "###### Paramètres du modèle\n",
    "\n",
    "- units : nombre de neurones par couche (layers) à ajuster\n",
    "\n",
    "- input_dim : la taille des features en entrée\n",
    "\n",
    "- Dense : permet de créer les différentes couches du réseau de neurone\n",
    "\n",
    "###### Paramètres de compilation du modèle\n",
    "\n",
    "- loss :  estime l’erreur actuelle dans le réseau\n",
    "\n",
    "- optimizer : met à jour les poids du réseau de manière itérative\n",
    "\n",
    "###### Paramètres d'entrainement du modèle\n",
    "\n",
    "- batch_size : contrôle le nombre d'observations à traiter avant la mise à jour des paramètres internes du modèle\n",
    "\n",
    "- epochs : contrôle le nombre de passages complets à travers l'ensemble de données d'apprentissage"
   ]
  },
  {
   "cell_type": "code",
   "execution_count": 19,
   "metadata": {},
   "outputs": [
    {
     "name": "stdout",
     "output_type": "stream",
     "text": [
      "Model: \"sequential_1\"\n",
      "_________________________________________________________________\n",
      " Layer (type)                Output Shape              Param #   \n",
      "=================================================================\n",
      " dense_2 (Dense)             (None, 20)                140       \n",
      "                                                                 \n",
      " dense_3 (Dense)             (None, 1)                 21        \n",
      "                                                                 \n",
      "=================================================================\n",
      "Total params: 161 (644.00 Byte)\n",
      "Trainable params: 161 (644.00 Byte)\n",
      "Non-trainable params: 0 (0.00 Byte)\n",
      "_________________________________________________________________\n"
     ]
    }
   ],
   "source": [
    "# Aperçu du modèle\n",
    "classifier.summary()"
   ]
  },
  {
   "cell_type": "markdown",
   "metadata": {},
   "source": [
    "5. Entraînez le modèle sur l’échantillon d’entraînement (comprendre les paramètres epochs, batch_size, optimizer)."
   ]
  },
  {
   "cell_type": "code",
   "execution_count": 24,
   "metadata": {},
   "outputs": [],
   "source": [
    "# Compilation\n",
    "classifier.compile(optimizer = 'adam', loss = 'binary_crossentropy', metrics = ['accuracy'])"
   ]
  },
  {
   "cell_type": "code",
   "execution_count": 25,
   "metadata": {},
   "outputs": [
    {
     "name": "stdout",
     "output_type": "stream",
     "text": [
      "Epoch 1/100\n",
      "115/115 [==============================] - 0s 609us/step - loss: 0.3607 - accuracy: 0.8600\n",
      "Epoch 2/100\n",
      "115/115 [==============================] - 0s 534us/step - loss: 0.3592 - accuracy: 0.8630\n",
      "Epoch 3/100\n",
      "115/115 [==============================] - 0s 533us/step - loss: 0.3593 - accuracy: 0.8591\n",
      "Epoch 4/100\n",
      "115/115 [==============================] - 0s 543us/step - loss: 0.3592 - accuracy: 0.8613\n",
      "Epoch 5/100\n",
      "115/115 [==============================] - 0s 523us/step - loss: 0.3580 - accuracy: 0.8600\n",
      "Epoch 6/100\n",
      "115/115 [==============================] - 0s 528us/step - loss: 0.3576 - accuracy: 0.8609\n",
      "Epoch 7/100\n",
      "115/115 [==============================] - 0s 535us/step - loss: 0.3569 - accuracy: 0.8604\n",
      "Epoch 8/100\n",
      "115/115 [==============================] - 0s 520us/step - loss: 0.3560 - accuracy: 0.8617\n",
      "Epoch 9/100\n",
      "115/115 [==============================] - 0s 519us/step - loss: 0.3563 - accuracy: 0.8639\n",
      "Epoch 10/100\n",
      "115/115 [==============================] - 0s 516us/step - loss: 0.3563 - accuracy: 0.8617\n",
      "Epoch 11/100\n",
      "115/115 [==============================] - 0s 543us/step - loss: 0.3550 - accuracy: 0.8591\n",
      "Epoch 12/100\n",
      "115/115 [==============================] - 0s 553us/step - loss: 0.3545 - accuracy: 0.8613\n",
      "Epoch 13/100\n",
      "115/115 [==============================] - 0s 549us/step - loss: 0.3549 - accuracy: 0.8600\n",
      "Epoch 14/100\n",
      "115/115 [==============================] - 0s 550us/step - loss: 0.3541 - accuracy: 0.8617\n",
      "Epoch 15/100\n",
      "115/115 [==============================] - 0s 544us/step - loss: 0.3533 - accuracy: 0.8609\n",
      "Epoch 16/100\n",
      "115/115 [==============================] - 0s 566us/step - loss: 0.3536 - accuracy: 0.8596\n",
      "Epoch 17/100\n",
      "115/115 [==============================] - 0s 537us/step - loss: 0.3526 - accuracy: 0.8617\n",
      "Epoch 18/100\n",
      "115/115 [==============================] - 0s 518us/step - loss: 0.3519 - accuracy: 0.8609\n",
      "Epoch 19/100\n",
      "115/115 [==============================] - 0s 517us/step - loss: 0.3520 - accuracy: 0.8613\n",
      "Epoch 20/100\n",
      "115/115 [==============================] - 0s 521us/step - loss: 0.3516 - accuracy: 0.8626\n",
      "Epoch 21/100\n",
      "115/115 [==============================] - 0s 560us/step - loss: 0.3507 - accuracy: 0.8613\n",
      "Epoch 22/100\n",
      "115/115 [==============================] - 0s 530us/step - loss: 0.3504 - accuracy: 0.8604\n",
      "Epoch 23/100\n",
      "115/115 [==============================] - 0s 507us/step - loss: 0.3501 - accuracy: 0.8609\n",
      "Epoch 24/100\n",
      "115/115 [==============================] - 0s 533us/step - loss: 0.3498 - accuracy: 0.8626\n",
      "Epoch 25/100\n",
      "115/115 [==============================] - 0s 513us/step - loss: 0.3495 - accuracy: 0.8622\n",
      "Epoch 26/100\n",
      "115/115 [==============================] - 0s 506us/step - loss: 0.3491 - accuracy: 0.8622\n",
      "Epoch 27/100\n",
      "115/115 [==============================] - 0s 507us/step - loss: 0.3493 - accuracy: 0.8609\n",
      "Epoch 28/100\n",
      "115/115 [==============================] - 0s 501us/step - loss: 0.3485 - accuracy: 0.8591\n",
      "Epoch 29/100\n",
      "115/115 [==============================] - 0s 520us/step - loss: 0.3484 - accuracy: 0.8604\n",
      "Epoch 30/100\n",
      "115/115 [==============================] - 0s 508us/step - loss: 0.3478 - accuracy: 0.8617\n",
      "Epoch 31/100\n",
      "115/115 [==============================] - 0s 520us/step - loss: 0.3470 - accuracy: 0.8643\n",
      "Epoch 32/100\n",
      "115/115 [==============================] - 0s 522us/step - loss: 0.3474 - accuracy: 0.8613\n",
      "Epoch 33/100\n",
      "115/115 [==============================] - 0s 548us/step - loss: 0.3467 - accuracy: 0.8643\n",
      "Epoch 34/100\n",
      "115/115 [==============================] - 0s 549us/step - loss: 0.3465 - accuracy: 0.8622\n",
      "Epoch 35/100\n",
      "115/115 [==============================] - 0s 534us/step - loss: 0.3462 - accuracy: 0.8617\n",
      "Epoch 36/100\n",
      "115/115 [==============================] - 0s 585us/step - loss: 0.3462 - accuracy: 0.8613\n",
      "Epoch 37/100\n",
      "115/115 [==============================] - 0s 523us/step - loss: 0.3459 - accuracy: 0.8630\n",
      "Epoch 38/100\n",
      "115/115 [==============================] - 0s 512us/step - loss: 0.3450 - accuracy: 0.8635\n",
      "Epoch 39/100\n",
      "115/115 [==============================] - 0s 538us/step - loss: 0.3451 - accuracy: 0.8635\n",
      "Epoch 40/100\n",
      "115/115 [==============================] - 0s 573us/step - loss: 0.3450 - accuracy: 0.8622\n",
      "Epoch 41/100\n",
      "115/115 [==============================] - 0s 511us/step - loss: 0.3447 - accuracy: 0.8630\n",
      "Epoch 42/100\n",
      "115/115 [==============================] - 0s 521us/step - loss: 0.3441 - accuracy: 0.8626\n",
      "Epoch 43/100\n",
      "115/115 [==============================] - 0s 541us/step - loss: 0.3438 - accuracy: 0.8622\n",
      "Epoch 44/100\n",
      "115/115 [==============================] - 0s 536us/step - loss: 0.3436 - accuracy: 0.8622\n",
      "Epoch 45/100\n",
      "115/115 [==============================] - 0s 531us/step - loss: 0.3437 - accuracy: 0.8635\n",
      "Epoch 46/100\n",
      "115/115 [==============================] - 0s 515us/step - loss: 0.3440 - accuracy: 0.8639\n",
      "Epoch 47/100\n",
      "115/115 [==============================] - 0s 565us/step - loss: 0.3431 - accuracy: 0.8648\n",
      "Epoch 48/100\n",
      "115/115 [==============================] - 0s 532us/step - loss: 0.3427 - accuracy: 0.8622\n",
      "Epoch 49/100\n",
      "115/115 [==============================] - 0s 503us/step - loss: 0.3427 - accuracy: 0.8643\n",
      "Epoch 50/100\n",
      "115/115 [==============================] - 0s 521us/step - loss: 0.3425 - accuracy: 0.8622\n",
      "Epoch 51/100\n",
      "115/115 [==============================] - 0s 506us/step - loss: 0.3424 - accuracy: 0.8622\n",
      "Epoch 52/100\n",
      "115/115 [==============================] - 0s 511us/step - loss: 0.3423 - accuracy: 0.8652\n",
      "Epoch 53/100\n",
      "115/115 [==============================] - 0s 500us/step - loss: 0.3418 - accuracy: 0.8648\n",
      "Epoch 54/100\n",
      "115/115 [==============================] - 0s 544us/step - loss: 0.3415 - accuracy: 0.8630\n",
      "Epoch 55/100\n",
      "115/115 [==============================] - 0s 543us/step - loss: 0.3416 - accuracy: 0.8670\n",
      "Epoch 56/100\n",
      "115/115 [==============================] - 0s 512us/step - loss: 0.3418 - accuracy: 0.8643\n",
      "Epoch 57/100\n",
      "115/115 [==============================] - 0s 519us/step - loss: 0.3411 - accuracy: 0.8652\n",
      "Epoch 58/100\n",
      "115/115 [==============================] - 0s 519us/step - loss: 0.3410 - accuracy: 0.8639\n",
      "Epoch 59/100\n",
      "115/115 [==============================] - 0s 499us/step - loss: 0.3404 - accuracy: 0.8670\n",
      "Epoch 60/100\n",
      "115/115 [==============================] - 0s 504us/step - loss: 0.3403 - accuracy: 0.8670\n",
      "Epoch 61/100\n",
      "115/115 [==============================] - 0s 507us/step - loss: 0.3404 - accuracy: 0.8648\n",
      "Epoch 62/100\n",
      "115/115 [==============================] - 0s 493us/step - loss: 0.3409 - accuracy: 0.8643\n",
      "Epoch 63/100\n",
      "115/115 [==============================] - 0s 489us/step - loss: 0.3409 - accuracy: 0.8657\n",
      "Epoch 64/100\n",
      "115/115 [==============================] - 0s 515us/step - loss: 0.3399 - accuracy: 0.8661\n",
      "Epoch 65/100\n",
      "115/115 [==============================] - 0s 516us/step - loss: 0.3396 - accuracy: 0.8665\n",
      "Epoch 66/100\n",
      "115/115 [==============================] - 0s 549us/step - loss: 0.3400 - accuracy: 0.8648\n",
      "Epoch 67/100\n",
      "115/115 [==============================] - 0s 529us/step - loss: 0.3399 - accuracy: 0.8674\n",
      "Epoch 68/100\n",
      "115/115 [==============================] - 0s 513us/step - loss: 0.3393 - accuracy: 0.8639\n",
      "Epoch 69/100\n",
      "115/115 [==============================] - 0s 505us/step - loss: 0.3391 - accuracy: 0.8657\n",
      "Epoch 70/100\n",
      "115/115 [==============================] - 0s 523us/step - loss: 0.3387 - accuracy: 0.8661\n",
      "Epoch 71/100\n",
      "115/115 [==============================] - 0s 538us/step - loss: 0.3394 - accuracy: 0.8665\n",
      "Epoch 72/100\n",
      "115/115 [==============================] - 0s 542us/step - loss: 0.3387 - accuracy: 0.8661\n",
      "Epoch 73/100\n",
      "115/115 [==============================] - 0s 531us/step - loss: 0.3380 - accuracy: 0.8665\n",
      "Epoch 74/100\n",
      "115/115 [==============================] - 0s 516us/step - loss: 0.3387 - accuracy: 0.8657\n",
      "Epoch 75/100\n",
      "115/115 [==============================] - 0s 495us/step - loss: 0.3380 - accuracy: 0.8670\n",
      "Epoch 76/100\n",
      "115/115 [==============================] - 0s 502us/step - loss: 0.3375 - accuracy: 0.8639\n",
      "Epoch 77/100\n",
      "115/115 [==============================] - 0s 506us/step - loss: 0.3388 - accuracy: 0.8665\n",
      "Epoch 78/100\n",
      "115/115 [==============================] - 0s 502us/step - loss: 0.3373 - accuracy: 0.8661\n",
      "Epoch 79/100\n"
     ]
    },
    {
     "name": "stdout",
     "output_type": "stream",
     "text": [
      "115/115 [==============================] - 0s 503us/step - loss: 0.3383 - accuracy: 0.8674\n",
      "Epoch 80/100\n",
      "115/115 [==============================] - 0s 539us/step - loss: 0.3373 - accuracy: 0.8665\n",
      "Epoch 81/100\n",
      "115/115 [==============================] - 0s 496us/step - loss: 0.3371 - accuracy: 0.8683\n",
      "Epoch 82/100\n",
      "115/115 [==============================] - 0s 492us/step - loss: 0.3367 - accuracy: 0.8652\n",
      "Epoch 83/100\n",
      "115/115 [==============================] - 0s 496us/step - loss: 0.3375 - accuracy: 0.8674\n",
      "Epoch 84/100\n",
      "115/115 [==============================] - 0s 497us/step - loss: 0.3372 - accuracy: 0.8657\n",
      "Epoch 85/100\n",
      "115/115 [==============================] - 0s 499us/step - loss: 0.3367 - accuracy: 0.8661\n",
      "Epoch 86/100\n",
      "115/115 [==============================] - 0s 503us/step - loss: 0.3364 - accuracy: 0.8661\n",
      "Epoch 87/100\n",
      "115/115 [==============================] - 0s 526us/step - loss: 0.3364 - accuracy: 0.8670\n",
      "Epoch 88/100\n",
      "115/115 [==============================] - 0s 545us/step - loss: 0.3361 - accuracy: 0.8648\n",
      "Epoch 89/100\n",
      "115/115 [==============================] - 0s 528us/step - loss: 0.3362 - accuracy: 0.8674\n",
      "Epoch 90/100\n",
      "115/115 [==============================] - 0s 645us/step - loss: 0.3367 - accuracy: 0.8670\n",
      "Epoch 91/100\n",
      "115/115 [==============================] - 0s 702us/step - loss: 0.3356 - accuracy: 0.8683\n",
      "Epoch 92/100\n",
      "115/115 [==============================] - 0s 538us/step - loss: 0.3366 - accuracy: 0.8652\n",
      "Epoch 93/100\n",
      "115/115 [==============================] - 0s 521us/step - loss: 0.3357 - accuracy: 0.8665\n",
      "Epoch 94/100\n",
      "115/115 [==============================] - 0s 501us/step - loss: 0.3369 - accuracy: 0.8670\n",
      "Epoch 95/100\n",
      "115/115 [==============================] - 0s 514us/step - loss: 0.3356 - accuracy: 0.8661\n",
      "Epoch 96/100\n",
      "115/115 [==============================] - 0s 511us/step - loss: 0.3360 - accuracy: 0.8691\n",
      "Epoch 97/100\n",
      "115/115 [==============================] - 0s 502us/step - loss: 0.3351 - accuracy: 0.8674\n",
      "Epoch 98/100\n",
      "115/115 [==============================] - 0s 548us/step - loss: 0.3352 - accuracy: 0.8665\n",
      "Epoch 99/100\n",
      "115/115 [==============================] - 0s 503us/step - loss: 0.3347 - accuracy: 0.8691\n",
      "Epoch 100/100\n",
      "115/115 [==============================] - 0s 525us/step - loss: 0.3363 - accuracy: 0.8670\n"
     ]
    }
   ],
   "source": [
    "# Fitting + entrainnement\n",
    "history = classifier.fit(X_train, Y_train, batch_size = 20, epochs = 100)"
   ]
  },
  {
   "cell_type": "code",
   "execution_count": 22,
   "metadata": {},
   "outputs": [
    {
     "data": {
      "text/plain": [
       "[<matplotlib.lines.Line2D at 0x7f65cec72c10>]"
      ]
     },
     "execution_count": 22,
     "metadata": {},
     "output_type": "execute_result"
    },
    {
     "data": {
      "image/png": "[encoded data removed]",
      "text/plain": [
       "<Figure size 640x480 with 1 Axes>"
      ]
     },
     "metadata": {},
     "output_type": "display_data"
    }
   ],
   "source": [
    "# Affichage de la fonction de perte le long des 100 epochs\n",
    "plt.plot(history.history['loss'])"
   ]
  },
  {
   "cell_type": "code",
   "execution_count": 23,
   "metadata": {},
   "outputs": [
    {
     "data": {
      "text/plain": [
       "[<matplotlib.lines.Line2D at 0x7f6598457210>]"
      ]
     },
     "execution_count": 23,
     "metadata": {},
     "output_type": "execute_result"
    },
    {
     "data": {
      "image/png": "[encoded data removed]",
      "text/plain": [
       "<Figure size 640x480 with 1 Axes>"
      ]
     },
     "metadata": {},
     "output_type": "display_data"
    }
   ],
   "source": [
    "# Affichage l'accuracy le long des 100 epochs\n",
    "plt.plot(history.history['accuracy'])"
   ]
  },
  {
   "cell_type": "markdown",
   "metadata": {},
   "source": [
    "6. Calculez l’erreur test."
   ]
  },
  {
   "cell_type": "code",
   "execution_count": 26,
   "metadata": {},
   "outputs": [
    {
     "name": "stdout",
     "output_type": "stream",
     "text": [
      "72/72 [==============================] - 0s 654us/step - loss: 0.3509 - accuracy: 0.8540\n"
     ]
    }
   ],
   "source": [
    "score=classifier.evaluate(X_test,Y_test)"
   ]
  },
  {
   "cell_type": "code",
   "execution_count": 27,
   "metadata": {},
   "outputs": [
    {
     "name": "stdout",
     "output_type": "stream",
     "text": [
      "72/72 [==============================] - 0s 482us/step\n"
     ]
    }
   ],
   "source": [
    "# Prediction\n",
    "y_pred = classifier.predict(X_test)\n",
    "y_pred = (y_pred > 0.5)"
   ]
  },
  {
   "cell_type": "code",
   "execution_count": 28,
   "metadata": {},
   "outputs": [
    {
     "name": "stdout",
     "output_type": "stream",
     "text": [
      "2301\n",
      "Counter({0: 1382, 1: 919})\n"
     ]
    },
    {
     "data": {
      "image/png": "[encoded data removed]",
      "text/plain": [
       "<Figure size 640x480 with 2 Axes>"
      ]
     },
     "metadata": {},
     "output_type": "display_data"
    }
   ],
   "source": [
    "mc = confusion_matrix(Y_test, y_pred)\n",
    "print(np.sum(mc))\n",
    "sns.heatmap(mc, annot = True, cmap=\"Greens\", fmt = '.1f')\n",
    "counter = Counter(Y_test)\n",
    "print(counter)"
   ]
  },
  {
   "cell_type": "code",
   "execution_count": 29,
   "metadata": {},
   "outputs": [
    {
     "data": {
      "text/plain": [
       "0.8381542417747851"
      ]
     },
     "execution_count": 29,
     "metadata": {},
     "output_type": "execute_result"
    }
   ],
   "source": [
    "from sklearn import metrics\n",
    "fpr, tpr, thresholds = metrics.roc_curve(Y_test, y_pred)\n",
    "metrics.auc(fpr, tpr)"
   ]
  },
  {
   "cell_type": "code",
   "execution_count": 31,
   "metadata": {},
   "outputs": [
    {
     "name": "stdout",
     "output_type": "stream",
     "text": [
      "Erreur de classification: 0.15\n"
     ]
    }
   ],
   "source": [
    "# Erreur à partir des données de test\n",
    "acc = accuracy_score(Y_test, y_pred)\n",
    "err = np.round(1 - acc, 2)\n",
    "print(\"Erreur de classification: %.2f\" % (err))"
   ]
  },
  {
   "cell_type": "code",
   "execution_count": 34,
   "metadata": {},
   "outputs": [],
   "source": [
    "## Pistes pour compléter\n",
    "## Pour comparer l'évolution,des erreurs tests et validation\n",
    "## utiliser learning_curve\n"
   ]
  }
 ],
 "metadata": {
  "kernelspec": {
   "display_name": "Python 3 (ipykernel)",
   "language": "python",
   "name": "python3"
  },
  "language_info": {
   "codemirror_mode": {
    "name": "ipython",
    "version": 3
   },
   "file_extension": ".py",
   "mimetype": "text/x-python",
   "name": "python",
   "nbconvert_exporter": "python",
   "pygments_lexer": "ipython3",
   "version": "3.11.4"
  }
 },
 "nbformat": 4,
 "nbformat_minor": 4
}
