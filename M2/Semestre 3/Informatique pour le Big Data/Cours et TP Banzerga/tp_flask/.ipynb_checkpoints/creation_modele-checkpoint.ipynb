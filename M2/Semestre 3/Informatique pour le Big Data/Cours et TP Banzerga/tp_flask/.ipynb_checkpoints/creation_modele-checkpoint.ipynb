{
 "cells": [
  {
   "cell_type": "markdown",
   "metadata": {},
   "source": [
    "# Un modèle très simple"
   ]
  },
  {
   "cell_type": "code",
   "execution_count": 1,
   "metadata": {},
   "outputs": [],
   "source": [
    "import numpy as np\n",
    "import pandas as pd\n",
    "from joblib import dump, load \n",
    "from numpy.random import default_rng\n",
    "from sklearn.linear_model import LinearRegression\n",
    "from sklearn.model_selection import train_test_split\n",
    "from sklearn.metrics import mean_squared_error"
   ]
  },
  {
   "cell_type": "code",
   "execution_count": 2,
   "metadata": {},
   "outputs": [],
   "source": [
    "rng = default_rng()\n",
    "moyennes = np.array([12, 28, 47])\n",
    "X = rng.multivariate_normal(mean = moyennes, cov = np.eye(3), size = 1000)"
   ]
  },
  {
   "cell_type": "code",
   "execution_count": 3,
   "metadata": {},
   "outputs": [],
   "source": [
    "y = 2*X[:,0] + 3*X[:,1] - X[:,2] + rng.normal(loc = 0, scale = 0.7, size = 1000)"
   ]
  },
  {
   "cell_type": "code",
   "execution_count": 4,
   "metadata": {},
   "outputs": [],
   "source": [
    "X_train, X_test, y_train, y_test = train_test_split(X, y, test_size = 0.8)"
   ]
  },
  {
   "cell_type": "code",
   "execution_count": 5,
   "metadata": {},
   "outputs": [
    {
     "data": {
      "text/plain": [
       "0.6695277815734466"
      ]
     },
     "execution_count": 5,
     "metadata": {},
     "output_type": "execute_result"
    }
   ],
   "source": [
    "model = LinearRegression()\n",
    "model.fit(X_train, y_train)\n",
    "y_pred = model.predict(X_test)\n",
    "mean_squared_error(y_test, y_pred, squared = False)"
   ]
  },
  {
   "cell_type": "code",
   "execution_count": 6,
   "metadata": {},
   "outputs": [
    {
     "data": {
      "text/plain": [
       "['linear_model.joblib']"
      ]
     },
     "execution_count": 6,
     "metadata": {},
     "output_type": "execute_result"
    }
   ],
   "source": [
    "dump(model, \"linear_model.joblib\")"
   ]
  },
  {
   "cell_type": "code",
   "execution_count": 11,
   "metadata": {},
   "outputs": [],
   "source": [
    "X_new = rng.multivariate_normal(mean = moyennes, cov = np.eye(3), size = 200)\n",
    "y_new = 2*X_new[:,0] + 3*X_new[:,1] - X_new[:,2] + \\\n",
    "        rng.normal(loc = 0, scale = 0.7, size = 200)\n",
    "y_new = y_new.reshape((200, 1))"
   ]
  },
  {
   "cell_type": "code",
   "execution_count": 13,
   "metadata": {},
   "outputs": [
    {
     "data": {
      "text/html": [
       "<div>\n",
       "<style scoped>\n",
       "    .dataframe tbody tr th:only-of-type {\n",
       "        vertical-align: middle;\n",
       "    }\n",
       "\n",
       "    .dataframe tbody tr th {\n",
       "        vertical-align: top;\n",
       "    }\n",
       "\n",
       "    .dataframe thead th {\n",
       "        text-align: right;\n",
       "    }\n",
       "</style>\n",
       "<table border=\"1\" class=\"dataframe\">\n",
       "  <thead>\n",
       "    <tr style=\"text-align: right;\">\n",
       "      <th></th>\n",
       "      <th>X0</th>\n",
       "      <th>X1</th>\n",
       "      <th>X2</th>\n",
       "      <th>y</th>\n",
       "    </tr>\n",
       "  </thead>\n",
       "  <tbody>\n",
       "    <tr>\n",
       "      <th>0</th>\n",
       "      <td>11.420149</td>\n",
       "      <td>28.681837</td>\n",
       "      <td>48.452232</td>\n",
       "      <td>61.452929</td>\n",
       "    </tr>\n",
       "    <tr>\n",
       "      <th>1</th>\n",
       "      <td>10.575125</td>\n",
       "      <td>27.748938</td>\n",
       "      <td>46.539635</td>\n",
       "      <td>57.153806</td>\n",
       "    </tr>\n",
       "    <tr>\n",
       "      <th>2</th>\n",
       "      <td>12.545243</td>\n",
       "      <td>28.183875</td>\n",
       "      <td>46.856257</td>\n",
       "      <td>62.434219</td>\n",
       "    </tr>\n",
       "    <tr>\n",
       "      <th>3</th>\n",
       "      <td>12.315471</td>\n",
       "      <td>27.444418</td>\n",
       "      <td>46.075648</td>\n",
       "      <td>60.887874</td>\n",
       "    </tr>\n",
       "    <tr>\n",
       "      <th>4</th>\n",
       "      <td>12.257776</td>\n",
       "      <td>25.861693</td>\n",
       "      <td>44.080867</td>\n",
       "      <td>57.269222</td>\n",
       "    </tr>\n",
       "  </tbody>\n",
       "</table>\n",
       "</div>"
      ],
      "text/plain": [
       "          X0         X1         X2          y\n",
       "0  11.420149  28.681837  48.452232  61.452929\n",
       "1  10.575125  27.748938  46.539635  57.153806\n",
       "2  12.545243  28.183875  46.856257  62.434219\n",
       "3  12.315471  27.444418  46.075648  60.887874\n",
       "4  12.257776  25.861693  44.080867  57.269222"
      ]
     },
     "execution_count": 13,
     "metadata": {},
     "output_type": "execute_result"
    }
   ],
   "source": [
    "df_new = pd.DataFrame(np.concatenate([X_new, y_new], axis = 1), \n",
    "                      columns = [\"X0\", \"X1\", \"X2\", \"y\"])\n",
    "df_new.head()"
   ]
  },
  {
   "cell_type": "code",
   "execution_count": null,
   "metadata": {},
   "outputs": [],
   "source": [
    "df_new.to_csv('new_data.csv')"
   ]
  }
 ],
 "metadata": {
  "interpreter": {
   "hash": "c6e1d2fe8f21339dfa0e23d85332aa608d82d7d2017b2b928f44843a7d0abd6d"
  },
  "kernelspec": {
   "display_name": "Python 3",
   "language": "python",
   "name": "python3"
  },
  "language_info": {
   "codemirror_mode": {
    "name": "ipython",
    "version": 3
   },
   "file_extension": ".py",
   "mimetype": "text/x-python",
   "name": "python",
   "nbconvert_exporter": "python",
   "pygments_lexer": "ipython3",
   "version": "3.7.0"
  }
 },
 "nbformat": 4,
 "nbformat_minor": 2
}
