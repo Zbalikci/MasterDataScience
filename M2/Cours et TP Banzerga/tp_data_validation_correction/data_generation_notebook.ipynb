{
 "cells": [
  {
   "cell_type": "code",
   "execution_count": 1,
   "metadata": {},
   "outputs": [],
   "source": [
    "import numpy as np\n",
    "import pandas as pd\n",
    "\n",
    "from data_validation_correction import CourseContentData, StudentProfileData"
   ]
  },
  {
   "cell_type": "code",
   "execution_count": 2,
   "metadata": {},
   "outputs": [
    {
     "data": {
      "text/html": [
       "<div>\n",
       "<style scoped>\n",
       "    .dataframe tbody tr th:only-of-type {\n",
       "        vertical-align: middle;\n",
       "    }\n",
       "\n",
       "    .dataframe tbody tr th {\n",
       "        vertical-align: top;\n",
       "    }\n",
       "\n",
       "    .dataframe thead th {\n",
       "        text-align: right;\n",
       "    }\n",
       "</style>\n",
       "<table border=\"1\" class=\"dataframe\">\n",
       "  <thead>\n",
       "    <tr style=\"text-align: right;\">\n",
       "      <th></th>\n",
       "      <th>id</th>\n",
       "      <th>title</th>\n",
       "      <th>type</th>\n",
       "      <th>keyword</th>\n",
       "      <th>duration</th>\n",
       "      <th>creation_date</th>\n",
       "    </tr>\n",
       "  </thead>\n",
       "  <tbody>\n",
       "    <tr>\n",
       "      <th>0</th>\n",
       "      <td>26543</td>\n",
       "      <td>񸑌1</td>\n",
       "      <td>exercise</td>\n",
       "      <td>data_science</td>\n",
       "      <td>97</td>\n",
       "      <td>2020-01-01 00:00:00.000060776</td>\n",
       "    </tr>\n",
       "    <tr>\n",
       "      <th>1</th>\n",
       "      <td>5009</td>\n",
       "      <td>𠅁􁼴ñÆwIÞ_󺱾</td>\n",
       "      <td>press_article</td>\n",
       "      <td>economics</td>\n",
       "      <td>118</td>\n",
       "      <td>2020-01-01 00:00:00.000062623</td>\n",
       "    </tr>\n",
       "    <tr>\n",
       "      <th>2</th>\n",
       "      <td>1001</td>\n",
       "      <td>򭬝򜫏\u0002񿤛ÿz󯸮</td>\n",
       "      <td>exam</td>\n",
       "      <td>sport</td>\n",
       "      <td>49</td>\n",
       "      <td>2020-01-01 00:00:00.000035434</td>\n",
       "    </tr>\n",
       "    <tr>\n",
       "      <th>3</th>\n",
       "      <td>19630</td>\n",
       "      <td></td>\n",
       "      <td>exercise</td>\n",
       "      <td>sport</td>\n",
       "      <td>86</td>\n",
       "      <td>2020-01-01 00:00:00.000000140</td>\n",
       "    </tr>\n",
       "    <tr>\n",
       "      <th>4</th>\n",
       "      <td>7477</td>\n",
       "      <td>MLñ󾃯I󃪠</td>\n",
       "      <td>course</td>\n",
       "      <td>computer_science</td>\n",
       "      <td>32</td>\n",
       "      <td>2020-01-01 00:00:00.000000199</td>\n",
       "    </tr>\n",
       "  </tbody>\n",
       "</table>\n",
       "</div>"
      ],
      "text/plain": [
       "      id        title           type           keyword  duration  \\\n",
       "0  26543           񸑌1       exercise      data_science        97   \n",
       "1   5009  𠅁􁼴ñÆwIÞ_󺱾  press_article         economics       118   \n",
       "2   1001     \n",
       "򭬝򜫏\u0002񿤛ÿz󯸮           exam             sport        49   \n",
       "3  19630                    exercise             sport        86   \n",
       "4   7477       MLñ󾃯I󃪠         course  computer_science        32   \n",
       "\n",
       "                  creation_date  \n",
       "0 2020-01-01 00:00:00.000060776  \n",
       "1 2020-01-01 00:00:00.000062623  \n",
       "2 2020-01-01 00:00:00.000035434  \n",
       "3 2020-01-01 00:00:00.000000140  \n",
       "4 2020-01-01 00:00:00.000000199  "
      ]
     },
     "execution_count": 2,
     "metadata": {},
     "output_type": "execute_result"
    }
   ],
   "source": [
    "# courses_example = CourseContentData.example(size=30)\n",
    "# courses_example.head()"
   ]
  },
  {
   "cell_type": "code",
   "execution_count": 3,
   "metadata": {},
   "outputs": [],
   "source": [
    "# courses_example.to_csv(\"courses_data.csv\", index=False)"
   ]
  },
  {
   "cell_type": "code",
   "execution_count": 4,
   "metadata": {},
   "outputs": [
    {
     "data": {
      "text/html": [
       "<div>\n",
       "<style scoped>\n",
       "    .dataframe tbody tr th:only-of-type {\n",
       "        vertical-align: middle;\n",
       "    }\n",
       "\n",
       "    .dataframe tbody tr th {\n",
       "        vertical-align: top;\n",
       "    }\n",
       "\n",
       "    .dataframe thead th {\n",
       "        text-align: right;\n",
       "    }\n",
       "</style>\n",
       "<table border=\"1\" class=\"dataframe\">\n",
       "  <thead>\n",
       "    <tr style=\"text-align: right;\">\n",
       "      <th></th>\n",
       "      <th>student_id</th>\n",
       "      <th>year_level</th>\n",
       "      <th>area_of_interest</th>\n",
       "    </tr>\n",
       "  </thead>\n",
       "  <tbody>\n",
       "    <tr>\n",
       "      <th>0</th>\n",
       "      <td>411276</td>\n",
       "      <td>L1</td>\n",
       "      <td>sport</td>\n",
       "    </tr>\n",
       "    <tr>\n",
       "      <th>1</th>\n",
       "      <td>844877</td>\n",
       "      <td>L3</td>\n",
       "      <td>computer_science</td>\n",
       "    </tr>\n",
       "    <tr>\n",
       "      <th>2</th>\n",
       "      <td>815856</td>\n",
       "      <td>L1</td>\n",
       "      <td>computer_science</td>\n",
       "    </tr>\n",
       "    <tr>\n",
       "      <th>3</th>\n",
       "      <td>556513</td>\n",
       "      <td>L3</td>\n",
       "      <td>data_science</td>\n",
       "    </tr>\n",
       "    <tr>\n",
       "      <th>4</th>\n",
       "      <td>889698</td>\n",
       "      <td>L2</td>\n",
       "      <td>data_science</td>\n",
       "    </tr>\n",
       "  </tbody>\n",
       "</table>\n",
       "</div>"
      ],
      "text/plain": [
       "   student_id year_level  area_of_interest\n",
       "0      411276         L1             sport\n",
       "1      844877         L3  computer_science\n",
       "2      815856         L1  computer_science\n",
       "3      556513         L3      data_science\n",
       "4      889698         L2      data_science"
      ]
     },
     "execution_count": 4,
     "metadata": {},
     "output_type": "execute_result"
    }
   ],
   "source": [
    "student_example = StudentProfileData.example(size=40)\n",
    "student_example.head()"
   ]
  },
  {
   "cell_type": "code",
   "execution_count": 5,
   "metadata": {},
   "outputs": [],
   "source": [
    "student_example.to_csv(\"student_data.csv\", index=False)"
   ]
  },
  {
   "cell_type": "code",
   "execution_count": 12,
   "metadata": {},
   "outputs": [],
   "source": [
    "courses_data = pd.read_csv(\"courses_data.csv\")"
   ]
  },
  {
   "cell_type": "code",
   "execution_count": 13,
   "metadata": {},
   "outputs": [
    {
     "data": {
      "text/plain": [
       "maths               4\n",
       "sport               3\n",
       "computer_science    3\n",
       "data_science        2\n",
       "economics           2\n",
       "history             2\n",
       "video_games         2\n",
       "physics             2\n",
       "arts                2\n",
       "social_sciences     2\n",
       "management          2\n",
       "biology             2\n",
       "Name: keyword, dtype: int64"
      ]
     },
     "execution_count": 13,
     "metadata": {},
     "output_type": "execute_result"
    }
   ],
   "source": [
    "courses_data.keyword.value_counts()"
   ]
  },
  {
   "cell_type": "code",
   "execution_count": 14,
   "metadata": {},
   "outputs": [
    {
     "data": {
      "text/plain": [
       "video_games         6\n",
       "social_sciences     5\n",
       "data_science        4\n",
       "management          4\n",
       "arts                4\n",
       "sport               3\n",
       "economics           3\n",
       "history             3\n",
       "biology             3\n",
       "computer_science    2\n",
       "maths               2\n",
       "physics             1\n",
       "Name: area_of_interest, dtype: int64"
      ]
     },
     "execution_count": 14,
     "metadata": {},
     "output_type": "execute_result"
    }
   ],
   "source": [
    "student_example.area_of_interest.value_counts()"
   ]
  },
  {
   "cell_type": "code",
   "execution_count": null,
   "metadata": {},
   "outputs": [],
   "source": []
  }
 ],
 "metadata": {
  "kernelspec": {
   "display_name": "Python 3.9.2 64-bit ('3.9.2')",
   "language": "python",
   "name": "python3"
  },
  "language_info": {
   "codemirror_mode": {
    "name": "ipython",
    "version": 3
   },
   "file_extension": ".py",
   "mimetype": "text/x-python",
   "name": "python",
   "nbconvert_exporter": "python",
   "pygments_lexer": "ipython3",
   "version": "3.9.2 (default, Oct  4 2021, 14:34:31) \n[GCC 7.5.0]"
  },
  "orig_nbformat": 4,
  "vscode": {
   "interpreter": {
    "hash": "c6e1d2fe8f21339dfa0e23d85332aa608d82d7d2017b2b928f44843a7d0abd6d"
   }
  }
 },
 "nbformat": 4,
 "nbformat_minor": 2
}
